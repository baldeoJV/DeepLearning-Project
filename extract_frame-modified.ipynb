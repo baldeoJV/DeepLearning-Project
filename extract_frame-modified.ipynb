{
 "cells": [
  {
   "cell_type": "code",
   "execution_count": null,
   "id": "d9ef98eb",
   "metadata": {
    "lines_to_next_cell": 0
   },
   "outputs": [],
   "source": [
    "import cv2\n",
    "import os\n",
    "import glob\n",
    "from tqdm import tqdm"
   ]
  },
  {
   "cell_type": "code",
   "execution_count": null,
   "id": "f842fdca",
   "metadata": {
    "lines_to_next_cell": 0
   },
   "outputs": [],
   "source": [
    "# Define paths based on CCDEPLRL_PROJECT structure\n",
    "BASE_PATH = 'CCDEPLRL_PROJECT'\n",
    "DATASET_PATH = os.path.join(BASE_PATH, 'dataset')\n",
    "PATH_violence = os.path.join(DATASET_PATH, 'Violence')\n",
    "PATH_nonviolence = os.path.join(DATASET_PATH, 'NonViolence')"
   ]
  },
  {
   "cell_type": "code",
   "execution_count": null,
   "id": "5516221e",
   "metadata": {
    "lines_to_next_cell": 0
   },
   "outputs": [],
   "source": [
    "# Create directories to store extracted frames if they don't exist\n",
    "os.makedirs(os.path.join(DATASET_PATH, 'frames', 'Violence'), exist_ok=True)\n",
    "os.makedirs(os.path.join(DATASET_PATH, 'frames', 'NonViolence'), exist_ok=True)"
   ]
  },
  {
   "cell_type": "code",
   "execution_count": null,
   "id": "2b757828",
   "metadata": {
    "lines_to_next_cell": 0
   },
   "outputs": [],
   "source": [
    "# Extract frames from Violence videos\n",
    "print(\"Extracting frames from Violence videos...\")\n",
    "for path in tqdm(glob.glob(PATH_violence + '/*')):\n",
    "    fname = os.path.basename(path).split('.')[0]\n",
    "    vidcap = cv2.VideoCapture(path)\n",
    "    success, image = vidcap.read()\n",
    "    count = 0\n",
    "    while success:\n",
    "        if count % 5 == 0:  # Extract every 5th frame to reduce redundancy\n",
    "            cv2.imwrite(os.path.join(DATASET_PATH, \"frames\", \"Violence\", \"{}-{}.jpg\".format(fname, str(count).zfill(4))), image)\n",
    "        success, image = vidcap.read()\n",
    "        count += 1"
   ]
  },
  {
   "cell_type": "code",
   "execution_count": null,
   "id": "eb020168",
   "metadata": {},
   "outputs": [],
   "source": [
    "# Extract frames from NonViolence videos\n",
    "print(\"Extracting frames from NonViolence videos...\")\n",
    "for path in tqdm(glob.glob(PATH_nonviolence + '/*')):\n",
    "    fname = os.path.basename(path).split('.')[0]\n",
    "    vidcap = cv2.VideoCapture(path)\n",
    "    success, image = vidcap.read()\n",
    "    count = 0\n",
    "    while success:\n",
    "        if count % 5 == 0:  # Extract every 5th frame to reduce redundancy\n",
    "            cv2.imwrite(os.path.join(DATASET_PATH, \"frames\", \"NonViolence\", \"{}-{}.jpg\".format(fname, str(count).zfill(4))), image)\n",
    "        success, image = vidcap.read()\n",
    "        count += 1\n",
    "\n",
    "print(\"Frame extraction completed!\")"
   ]
  }
 ],
 "metadata": {
  "jupytext": {
   "cell_metadata_filter": "-all",
   "main_language": "python",
   "notebook_metadata_filter": "-all"
  },
  "kernelspec": {
   "display_name": "Python 3",
   "language": "python",
   "name": "python3"
  },
  "language_info": {
   "name": "python",
   "version": "3.12.7"
  }
 },
 "nbformat": 4,
 "nbformat_minor": 5
}
