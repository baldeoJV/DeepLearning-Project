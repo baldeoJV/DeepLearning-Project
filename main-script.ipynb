{
 "cells": [
  {
   "cell_type": "code",
   "execution_count": null,
   "id": "0f4803cc",
   "metadata": {
    "lines_to_next_cell": 0
   },
   "outputs": [],
   "source": [
    "import os\n",
    "import argparse\n",
    "import sys\n",
    "import subprocess"
   ]
  },
  {
   "cell_type": "code",
   "execution_count": null,
   "id": "aa607a1b",
   "metadata": {
    "lines_to_next_cell": 0
   },
   "outputs": [],
   "source": [
    "def print_header(message):\n",
    "    print(\"\\n\" + \"=\"*80)\n",
    "    print(f\" {message}\")\n",
    "    print(\"=\"*80 + \"\\n\")"
   ]
  },
  {
   "cell_type": "code",
   "execution_count": null,
   "id": "25e83fc8",
   "metadata": {
    "lines_to_next_cell": 0
   },
   "outputs": [],
   "source": [
    "def setup_directories():\n",
    "    \"\"\"Setup the required directory structure if it doesn't exist\"\"\"\n",
    "    # Define paths\n",
    "    base_path = 'CCDEPLRL_PROJECT'\n",
    "    directories = [\n",
    "        os.path.join(base_path, 'dataset', 'Violence'),\n",
    "        os.path.join(base_path, 'dataset', 'NonViolence'),\n",
    "        os.path.join(base_path, 'input'),\n",
    "        os.path.join(base_path, 'output'),\n",
    "        os.path.join(base_path, 'model')\n",
    "    ]\n",
    "    \n",
    "    # Create directories\n",
    "    for directory in directories:\n",
    "        os.makedirs(directory, exist_ok=True)\n",
    "    \n",
    "    print(\"Directory structure set up successfully!\")"
   ]
  },
  {
   "cell_type": "code",
   "execution_count": null,
   "id": "7e6be1e4",
   "metadata": {
    "lines_to_next_cell": 0
   },
   "outputs": [],
   "source": [
    "def main():\n",
    "    # Parse command line arguments\n",
    "    parser = argparse.ArgumentParser(description=\"Violence Detection System\")\n",
    "    parser.add_argument(\"--setup\", action=\"store_true\", help=\"Setup directory structure\")\n",
    "    parser.add_argument(\"--extract\", action=\"store_true\", help=\"Extract frames from videos in dataset\")\n",
    "    parser.add_argument(\"--train\", action=\"store_true\", help=\"Train the violence detection model\")\n",
    "    parser.add_argument(\"--predict\", action=\"store_true\", help=\"Run prediction on videos in input folder\")\n",
    "    parser.add_argument(\"--video\", help=\"Path to a specific video for prediction\")\n",
    "    \n",
    "    args = parser.parse_args()\n",
    "    \n",
    "    # If no arguments, show help\n",
    "    if len(sys.argv) == 1:\n",
    "        parser.print_help()\n",
    "        return\n",
    "    \n",
    "    # Setup directories if requested\n",
    "    if args.setup:\n",
    "        print_header(\"Setting up directories\")\n",
    "        setup_directories()\n",
    "    \n",
    "    # Extract frames if requested\n",
    "    if args.extract:\n",
    "        print_header(\"Extracting frames from videos\")\n",
    "        subprocess.run([\"python\", \"extract_frame.py\"])\n",
    "    \n",
    "    # Train model if requested\n",
    "    if args.train:\n",
    "        print_header(\"Training violence detection model\")\n",
    "        subprocess.run([\"python\", \"train.py\"])\n",
    "    \n",
    "    # Run prediction if requested\n",
    "    if args.predict:\n",
    "        print_header(\"Running prediction on videos\")\n",
    "        if args.video:\n",
    "            subprocess.run([\"python\", \"predict_video.py\", \"--video\", args.video])\n",
    "        else:\n",
    "            subprocess.run([\"python\", \"predict_video.py\"])"
   ]
  },
  {
   "cell_type": "code",
   "execution_count": null,
   "id": "f551c6f9",
   "metadata": {},
   "outputs": [],
   "source": [
    "if __name__ == \"__main__\":\n",
    "    main()"
   ]
  }
 ],
 "metadata": {
  "jupytext": {
   "cell_metadata_filter": "-all",
   "main_language": "python",
   "notebook_metadata_filter": "-all"
  },
  "kernelspec": {
   "display_name": "Python 3",
   "language": "python",
   "name": "python3"
  },
  "language_info": {
   "name": "python",
   "version": "3.12.7"
  }
 },
 "nbformat": 4,
 "nbformat_minor": 5
}
